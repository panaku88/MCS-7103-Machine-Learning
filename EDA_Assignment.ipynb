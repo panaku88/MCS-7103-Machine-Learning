{
  "cells": [
    {
      "cell_type": "markdown",
      "metadata": {
        "id": "view-in-github",
        "colab_type": "text"
      },
      "source": [
        "<a href=\"https://colab.research.google.com/github/panaku88/MCS-7103-Machine-Learning/blob/main/EDA_Assignment.ipynb\" target=\"_parent\"><img src=\"https://colab.research.google.com/assets/colab-badge.svg\" alt=\"Open In Colab\"/></a>"
      ]
    },
    {
      "cell_type": "code",
      "execution_count": 50,
      "metadata": {
        "colab": {
          "base_uri": "https://localhost:8080/"
        },
        "id": "dFStSYFVq4oF",
        "outputId": "2ec550ff-826b-4191-d116-6c7aaa027abd"
      },
      "outputs": [
        {
          "output_type": "stream",
          "name": "stdout",
          "text": [
            "Drive already mounted at /content/drive; to attempt to forcibly remount, call drive.mount(\"/content/drive\", force_remount=True).\n"
          ]
        }
      ],
      "source": [
        "from google.colab import drive\n",
        "drive.mount('/content/drive')\n"
      ]
    },
    {
      "cell_type": "code",
      "execution_count": 51,
      "metadata": {
        "id": "onf44ur0Clid"
      },
      "outputs": [],
      "source": [
        "import pandas as pd\n",
        "\n",
        "# Data Visualization\n",
        "import matplotlib.pyplot as plt\n",
        "import seaborn as sns"
      ]
    },
    {
      "cell_type": "code",
      "execution_count": 52,
      "metadata": {
        "id": "MZtrVGe9ylRD"
      },
      "outputs": [],
      "source": [
        "raw_dataset = pd.read_csv('/content/drive/MyDrive/MCSC1/dataset/CS_Service_Data.csv')\n",
        "#raw_dataset.head()"
      ]
    },
    {
      "cell_type": "code",
      "execution_count": 53,
      "metadata": {
        "id": "KZelpEMYsVCm"
      },
      "outputs": [],
      "source": [
        "import re\n",
        "import random\n",
        "# Replace 'RKE' with 'TT' in the 'TICKET NUMBER' column\n",
        "raw_dataset['TICKET NUMBER'] = raw_dataset['TICKET NUMBER'].str.replace(r'^RKE', 'TT', regex=True)\n",
        "\n",
        "# Define a function to replace 'RKE' with 'TT' in any word\n",
        "def replace_rke_with_tt(text):\n",
        "    # Check if the value is a string\n",
        "    if isinstance(text, str):\n",
        "        # Replace any word starting with 'RKE' with 'TT' but keep the rest of the word unchanged\n",
        "        return re.sub(r'\\bRKE(\\w*)\\b', r'TT\\1', text)\n",
        "    else:\n",
        "        # Return the original value if it's not a string\n",
        "        return text\n",
        "\n",
        "\n",
        "def replace_service_plan(text):\n",
        "  if isinstance(text, str):\n",
        "    if re.match(r'CAPPED-BASE: Roke Capped Base', text):\n",
        "      return 'SONIC HOME PRO 25Mbps'\n",
        "    else:\n",
        "      return text\n",
        "  else:\n",
        "    return text\n",
        "\n",
        "def replace_service_plan_ent(text):\n",
        "  if isinstance(text, str):\n",
        "    match = re.search(r'RE(\\d+): Roke Enterprise', text)\n",
        "    if match:\n",
        "      number = match.group(1)\n",
        "      return f'SONIC BUSINESS {number}Mbps'\n",
        "    else:\n",
        "      return text\n",
        "  else:\n",
        "    return text\n",
        "\n",
        "\n",
        "def replace_service_plan_vpn(text):\n",
        "  if isinstance(text, str):\n",
        "    if 'VPN' in text or 'vpn' in text:\n",
        "      random_number = random.randint(1, 100)\n",
        "      return f'SONIC MPLS VPN {random_number}Mbps'\n",
        "    else:\n",
        "      return text\n",
        "  else:\n",
        "    return text\n",
        "\n",
        "raw_dataset['SERVICE PLAN'] = raw_dataset['SERVICE PLAN'].apply(replace_service_plan_vpn)\n",
        "raw_dataset['SERVICE PLAN'] = raw_dataset['SERVICE PLAN'].apply(replace_service_plan_ent)\n",
        "raw_dataset['SERVICE PLAN'] = raw_dataset['SERVICE PLAN'].apply(replace_service_plan)\n",
        "raw_dataset['STATUS DESCRIPTION'] = raw_dataset['STATUS DESCRIPTION'].apply(replace_rke_with_tt)\n",
        "\n",
        "# Specify the path to save the modified dataset\n",
        "output_path = '/content/drive/MyDrive/MCSC1/dataset/clean_cs_dataset.csv'\n",
        "\n"
      ]
    },
    {
      "cell_type": "code",
      "execution_count": 54,
      "metadata": {
        "id": "upHUreCF-P7Q"
      },
      "outputs": [],
      "source": [
        "customer_names = {}\n",
        "syllables = ['a', 'e', 'i', 'o', 'u', 'ka', 'ke', 'ki', 'ko', 'ku', 'sa', 'se', 'si', 'so', 'su', 'ta', 'te', 'ti', 'to', 'tu', 'na', 'ne', 'ni', 'no', 'nu', 'ha', 'he', 'hi', 'ho', 'hu', 'ma', 'me', 'mi', 'mo', 'mu', 'ya', 'ye', 'yi', 'yo', 'yu', 'ra', 're', 'ri', 'ro', 'ru', 'wa', 'we', 'wi', 'wo', 'wu']\n",
        "\n",
        "def generate_name(min_length=3, max_length=6):\n",
        "  name = ''\n",
        "  length = random.randint(min_length, max_length)\n",
        "  for i in range(length):\n",
        "    name += random.choice(syllables)\n",
        "  return name.capitalize()\n",
        "\n",
        "def generate_customer_name(row):\n",
        "  name = row['CUSTOMER NAME']\n",
        "  account = row['CUSTOMER ACCOUNT']\n",
        "  if isinstance(name, str):\n",
        "    if account in customer_names:\n",
        "      return customer_names[account]\n",
        "    else:\n",
        "      if 'Mr' in name or 'Ms' in name:\n",
        "        title = random.choice(['Mr', 'Ms'])\n",
        "        first_name = generate_name()\n",
        "        last_name = generate_name()\n",
        "        new_name = f'{title} {first_name} {last_name}'\n",
        "      elif 'Company' in name or 'Ltd' in name or 'Inc' in name:\n",
        "        new_name = generate_name() + ' Inc'\n",
        "      else:\n",
        "        first_name = generate_name()\n",
        "        last_name = generate_name()\n",
        "        new_name = f'{first_name} {last_name}'\n",
        "      customer_names[account] = new_name\n",
        "      return new_name\n",
        "  else:\n",
        "    return name\n",
        "\n",
        "raw_dataset['CUSTOMER NAME'] = raw_dataset.apply(generate_customer_name, axis=1)"
      ]
    },
    {
      "cell_type": "code",
      "execution_count": 55,
      "metadata": {
        "id": "T8mL4eDEBM2t"
      },
      "outputs": [],
      "source": [
        "def replace_site_id_description(row):\n",
        "  site_id = row['SITE  ID']\n",
        "  site_description = row['SITE DESCRIPTION']\n",
        "  if isinstance(site_id, str) and isinstance(site_description, str):\n",
        "    if 'BCS' in site_id or 'BCS' in site_description:\n",
        "      return 'SONIC GPON'\n",
        "    else:\n",
        "      return site_id\n",
        "  else:\n",
        "    return site_id\n",
        "\n",
        "raw_dataset['SITE  ID'] = raw_dataset.apply(replace_site_id_description, axis=1)\n",
        "raw_dataset['SITE DESCRIPTION'] = raw_dataset.apply(replace_site_id_description, axis=1)"
      ]
    },
    {
      "cell_type": "code",
      "execution_count": 56,
      "metadata": {
        "colab": {
          "base_uri": "https://localhost:8080/"
        },
        "id": "qBwWlEEd-iPw",
        "outputId": "28f74996-fdb2-4187-a942-b177d7bcbdf0"
      },
      "outputs": [
        {
          "output_type": "stream",
          "name": "stdout",
          "text": [
            "The clean_cs_dataset.csv has been created successfully at /content/drive/MyDrive/MCSC1/dataset/clean_cs_dataset.csv.\n"
          ]
        }
      ],
      "source": [
        "# Save the modified dataset to the specified path\n",
        "raw_dataset.to_csv(output_path, index=False)\n",
        "\n",
        "print(f\"The clean_cs_dataset.csv has been created successfully at {output_path}.\")"
      ]
    },
    {
      "cell_type": "code",
      "execution_count": 57,
      "metadata": {
        "id": "39Cz8Pn4K_6F",
        "colab": {
          "base_uri": "https://localhost:8080/"
        },
        "outputId": "707f1c97-03a2-4215-fead-2525b252e664"
      },
      "outputs": [
        {
          "output_type": "stream",
          "name": "stderr",
          "text": [
            "<ipython-input-57-5a42b6c4b393>:5: FutureWarning: DataFrame.applymap has been deprecated. Use DataFrame.map instead.\n",
            "  new_dataset = new_dataset[new_dataset.applymap(lambda x: 'Not Specified' not in str(x) and 'Not Selected' not in str(x)).all(axis=1)]\n"
          ]
        },
        {
          "output_type": "stream",
          "name": "stdout",
          "text": [
            "The clean_cs_dataset.csv has been created successfully at /content/drive/MyDrive/MCSC1/dataset/clean_cs_dataset.csv.\n"
          ]
        }
      ],
      "source": [
        "# Load the dataframe.\n",
        "new_dataset = pd.read_csv('/content/drive/MyDrive/MCSC1/dataset/clean_cs_dataset.csv')\n",
        "\n",
        "# Drop rows with 'Not Specified' or 'Not Selected'.\n",
        "new_dataset = new_dataset[new_dataset.applymap(lambda x: 'Not Specified' not in str(x) and 'Not Selected' not in str(x)).all(axis=1)]\n",
        "# Drop the columns.\n",
        "new_dataset = new_dataset.drop(['SITE  ID', 'SITE DESCRIPTION', 'CUSTOMER NAME'], axis=1)\n",
        "# Save the modified dataset to the specified path\n",
        "output_path = '/content/drive/MyDrive/MCSC1/dataset/clean_cs_dataset.csv'\n",
        "new_dataset.to_csv(output_path, index=False)\n",
        "\n",
        "print(f\"The clean_cs_dataset.csv has been created successfully at {output_path}.\")"
      ]
    },
    {
      "cell_type": "code",
      "execution_count": null,
      "metadata": {
        "id": "0xrikuKFvgsS"
      },
      "outputs": [],
      "source": [
        "new_dataset.head()"
      ]
    },
    {
      "cell_type": "code",
      "execution_count": null,
      "metadata": {
        "id": "x2ufLX72tgtC"
      },
      "outputs": [],
      "source": [
        "new_dataset.info()"
      ]
    },
    {
      "cell_type": "code",
      "execution_count": null,
      "metadata": {
        "id": "-sTv48SgtwBK"
      },
      "outputs": [],
      "source": [
        "new_dataset.tail()"
      ]
    },
    {
      "cell_type": "code",
      "execution_count": null,
      "metadata": {
        "id": "LtpbBIvTtyiT"
      },
      "outputs": [],
      "source": [
        "new_dataset.describe()"
      ]
    },
    {
      "cell_type": "code",
      "execution_count": 64,
      "metadata": {
        "id": "17z8GC7Bt1eD",
        "colab": {
          "base_uri": "https://localhost:8080/",
          "height": 742
        },
        "outputId": "8b9707cc-83e0-48e1-c500-5445310c3bd7"
      },
      "outputs": [
        {
          "output_type": "execute_result",
          "data": {
            "text/plain": [
              "TICKET NUMBER               0\n",
              "CUSTOMER ACCOUNT            0\n",
              "SERVICE PLAN                0\n",
              "SOURCE                      1\n",
              "Logged By User              0\n",
              "DATE LOGGED                 0\n",
              "CATEGORY                  212\n",
              "SUB-CATEGORY              212\n",
              "PRIORITY                    0\n",
              "LOGGED DESCRIPTION          0\n",
              "CURRENT STATUS              0\n",
              "STATUS DESCRIPTION          3\n",
              "TICKET CENTER               0\n",
              "TICKET OWNER              445\n",
              "UPDATED BY USER             0\n",
              "TIME IDLE (MINS)            0\n",
              "TIME IDLE (DAYS)            0\n",
              "TIME TO CLOSE (MINS)        0\n",
              "TIME TO CLOSE (DAYS)        0\n",
              "ALLOCATED TIME (MINS)       0\n",
              "ALLOCATED TIME (HOURS)      0\n",
              "dtype: int64"
            ],
            "text/html": [
              "<div>\n",
              "<style scoped>\n",
              "    .dataframe tbody tr th:only-of-type {\n",
              "        vertical-align: middle;\n",
              "    }\n",
              "\n",
              "    .dataframe tbody tr th {\n",
              "        vertical-align: top;\n",
              "    }\n",
              "\n",
              "    .dataframe thead th {\n",
              "        text-align: right;\n",
              "    }\n",
              "</style>\n",
              "<table border=\"1\" class=\"dataframe\">\n",
              "  <thead>\n",
              "    <tr style=\"text-align: right;\">\n",
              "      <th></th>\n",
              "      <th>0</th>\n",
              "    </tr>\n",
              "  </thead>\n",
              "  <tbody>\n",
              "    <tr>\n",
              "      <th>TICKET NUMBER</th>\n",
              "      <td>0</td>\n",
              "    </tr>\n",
              "    <tr>\n",
              "      <th>CUSTOMER ACCOUNT</th>\n",
              "      <td>0</td>\n",
              "    </tr>\n",
              "    <tr>\n",
              "      <th>SERVICE PLAN</th>\n",
              "      <td>0</td>\n",
              "    </tr>\n",
              "    <tr>\n",
              "      <th>SOURCE</th>\n",
              "      <td>1</td>\n",
              "    </tr>\n",
              "    <tr>\n",
              "      <th>Logged By User</th>\n",
              "      <td>0</td>\n",
              "    </tr>\n",
              "    <tr>\n",
              "      <th>DATE LOGGED</th>\n",
              "      <td>0</td>\n",
              "    </tr>\n",
              "    <tr>\n",
              "      <th>CATEGORY</th>\n",
              "      <td>212</td>\n",
              "    </tr>\n",
              "    <tr>\n",
              "      <th>SUB-CATEGORY</th>\n",
              "      <td>212</td>\n",
              "    </tr>\n",
              "    <tr>\n",
              "      <th>PRIORITY</th>\n",
              "      <td>0</td>\n",
              "    </tr>\n",
              "    <tr>\n",
              "      <th>LOGGED DESCRIPTION</th>\n",
              "      <td>0</td>\n",
              "    </tr>\n",
              "    <tr>\n",
              "      <th>CURRENT STATUS</th>\n",
              "      <td>0</td>\n",
              "    </tr>\n",
              "    <tr>\n",
              "      <th>STATUS DESCRIPTION</th>\n",
              "      <td>3</td>\n",
              "    </tr>\n",
              "    <tr>\n",
              "      <th>TICKET CENTER</th>\n",
              "      <td>0</td>\n",
              "    </tr>\n",
              "    <tr>\n",
              "      <th>TICKET OWNER</th>\n",
              "      <td>445</td>\n",
              "    </tr>\n",
              "    <tr>\n",
              "      <th>UPDATED BY USER</th>\n",
              "      <td>0</td>\n",
              "    </tr>\n",
              "    <tr>\n",
              "      <th>TIME IDLE (MINS)</th>\n",
              "      <td>0</td>\n",
              "    </tr>\n",
              "    <tr>\n",
              "      <th>TIME IDLE (DAYS)</th>\n",
              "      <td>0</td>\n",
              "    </tr>\n",
              "    <tr>\n",
              "      <th>TIME TO CLOSE (MINS)</th>\n",
              "      <td>0</td>\n",
              "    </tr>\n",
              "    <tr>\n",
              "      <th>TIME TO CLOSE (DAYS)</th>\n",
              "      <td>0</td>\n",
              "    </tr>\n",
              "    <tr>\n",
              "      <th>ALLOCATED TIME (MINS)</th>\n",
              "      <td>0</td>\n",
              "    </tr>\n",
              "    <tr>\n",
              "      <th>ALLOCATED TIME (HOURS)</th>\n",
              "      <td>0</td>\n",
              "    </tr>\n",
              "  </tbody>\n",
              "</table>\n",
              "</div><br><label><b>dtype:</b> int64</label>"
            ]
          },
          "metadata": {},
          "execution_count": 64
        }
      ],
      "source": [
        "new_dataset.isnull().sum()"
      ]
    },
    {
      "cell_type": "code",
      "execution_count": null,
      "metadata": {
        "colab": {
          "base_uri": "https://localhost:8080/"
        },
        "id": "XX37QzIpt0Xq",
        "outputId": "ea698eb1-7a84-46c8-920e-89b7e47a362a"
      },
      "outputs": [
        {
          "data": {
            "text/plain": [
              "(252608, 24)"
            ]
          },
          "execution_count": 8,
          "metadata": {},
          "output_type": "execute_result"
        }
      ],
      "source": [
        "new_dataset.shape"
      ]
    },
    {
      "cell_type": "code",
      "execution_count": null,
      "metadata": {
        "id": "_R8NbHpyuKOv"
      },
      "outputs": [],
      "source": [
        "new_dataset.columns"
      ]
    },
    {
      "cell_type": "code",
      "execution_count": null,
      "metadata": {
        "id": "sGJ18BfLuOBc"
      },
      "outputs": [],
      "source": [
        "new_dataset.dtypes"
      ]
    },
    {
      "cell_type": "code",
      "execution_count": null,
      "metadata": {
        "id": "3gpTkyz2uT5J"
      },
      "outputs": [],
      "source": [
        "new_dataset.nunique()"
      ]
    },
    {
      "cell_type": "code",
      "execution_count": null,
      "metadata": {
        "colab": {
          "base_uri": "https://localhost:8080/"
        },
        "id": "ou1bwRnFucFO",
        "outputId": "f6a0de47-d797-4ba4-da62-6f35f92477e4"
      },
      "outputs": [
        {
          "data": {
            "text/plain": [
              "0"
            ]
          },
          "execution_count": 12,
          "metadata": {},
          "output_type": "execute_result"
        }
      ],
      "source": [
        "new_dataset.duplicated().sum()"
      ]
    },
    {
      "cell_type": "code",
      "execution_count": null,
      "metadata": {
        "id": "NRPF00PPu3cO"
      },
      "outputs": [],
      "source": [
        "new_dataset"
      ]
    },
    {
      "cell_type": "code",
      "execution_count": null,
      "metadata": {
        "id": "67TQTeccQ_--"
      },
      "outputs": [],
      "source": [
        "# Histograms\n",
        "new_dataset.hist(figsize=(10,10))\n",
        "plt.show()"
      ]
    },
    {
      "cell_type": "code",
      "execution_count": null,
      "metadata": {
        "id": "NhVrsTB1RNMp"
      },
      "outputs": [],
      "source": [
        "# Box plots\n",
        "new_dataset.plot(kind='box', subplots=True, layout=(4,4), figsize=(10,10))\n",
        "plt.show()"
      ]
    },
    {
      "cell_type": "code",
      "execution_count": null,
      "metadata": {
        "id": "uqF3y1zLRT9T"
      },
      "outputs": [],
      "source": [
        "# Scatter plots\n",
        "plt.scatter(new_dataset['DATE LOGGED'], new_dataset['TIME IDLE (MINS)'])\n",
        "plt.xlabel('column1')\n",
        "plt.ylabel('column2')\n",
        "plt.show()\n"
      ]
    },
    {
      "cell_type": "code",
      "execution_count": null,
      "metadata": {
        "id": "kUQ7pW7YRtfn"
      },
      "outputs": [],
      "source": [
        "# Correlation Analysis\n",
        "correlation_matrix = new_dataset.corr()\n",
        "sns.heatmap(correlation_matrix, annot=True)\n",
        "plt.show()"
      ]
    },
    {
      "cell_type": "code",
      "execution_count": null,
      "metadata": {
        "id": "LTT6txl8SHYo"
      },
      "outputs": [],
      "source": [
        "\n",
        "# Identify Outliers (using box plots - refer to box plot code above)\n",
        "\n",
        "# Groupby and Aggregation\n",
        "new_dataset.groupby('DATE LOGGED')['TIME IDLE (MINS)'].sum()"
      ]
    }
  ],
  "metadata": {
    "colab": {
      "provenance": [],
      "mount_file_id": "1k2ULLPqYd5sanaOODkz0WPl2wPYz1Vha",
      "authorship_tag": "ABX9TyO4092+1rQGzBBLZzzZaY8P",
      "include_colab_link": true
    },
    "kernelspec": {
      "display_name": "Python 3",
      "name": "python3"
    },
    "language_info": {
      "name": "python"
    }
  },
  "nbformat": 4,
  "nbformat_minor": 0
}